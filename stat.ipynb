{
 "cells": [
  {
   "cell_type": "code",
   "execution_count": 1,
   "metadata": {},
   "outputs": [],
   "source": []
  },
  {
   "cell_type": "code",
   "execution_count": 49,
   "metadata": {},
   "outputs": [
    {
     "name": "stdout",
     "output_type": "stream",
     "text": [
      "Categories           Percent of product having high fake-review (%)         Number of products\n",
      "------------------------------------------------------------------------------------------------------\n",
      "Pet_Supplies                  \t\t12.06 %\t\t\t\t\t4421\t\t\t\t34.95%\n",
      "Appliances                    \t\t14.46 %\t\t\t\t\t484\t\t\t\t39.27%\n",
      "Home_and_Kitchen              \t\t10.91 %\t\t\t\t\t15353\t\t\t\t37.44%\n",
      "Movies_and_TV                 \t\t17.27 %\t\t\t\t\t1841\t\t\t\t78.14%\n",
      "Software                      \t\t20.55 %\t\t\t\t\t253\t\t\t\t52.89%\n",
      "Automotive                    \t\t11.04 %\t\t\t\t\t5425\t\t\t\t38.10%\n",
      "Cell_Phones_and_Accessories   \t\t8.98 %\t\t\t\t\t4910\t\t\t\t56.91%\n",
      "AMAZON_FASHION                \t\t5.35 %\t\t\t\t\t243\t\t\t\t59.70%\n",
      "Electronics                   \t\t9.88 %\t\t\t\t\t15531\t\t\t\t32.72%\n",
      "Books                         \t\t28.15 %\t\t\t\t\t14809\t\t\t\t75.32%\n"
     ]
    }
   ],
   "source": [
    "import json\n",
    "\n",
    "# 'S_overall': 1=PASS, 2=WARN, 3=FAIL\n",
    "with open(\"results.json\", \"r\") as f:\n",
    "    data = json.load(f)\n",
    "print(f'Categories           Percent of product having high fake-review (%)         Number of products')\n",
    "print('-'*102)\n",
    "for key, val in data.items():\n",
    "    empty = val['']/sum(val.values())*100\n",
    "    if val.get('-1'):\n",
    "        del val['-1']\n",
    "    del val['']\n",
    "    total = sum(val.values())\n",
    "    fake_rate = val['3']/total*100\n",
    "    print(f\"{key:<30}\\t\\t{fake_rate:.2f} %\\t\\t\\t\\t\\t{total}\\t\\t\\t\\t{empty:.2f}%\")"
   ]
  },
  {
   "cell_type": "code",
   "execution_count": null,
   "metadata": {},
   "outputs": [],
   "source": []
  }
 ],
 "metadata": {
  "interpreter": {
   "hash": "2febf2845efda83c294677339c2eeb44b50493e3bfe5561528ecd6f545f6cf92"
  },
  "kernelspec": {
   "display_name": "Python 3.9.0 ('gnn')",
   "language": "python",
   "name": "python3"
  },
  "language_info": {
   "codemirror_mode": {
    "name": "ipython",
    "version": 3
   },
   "file_extension": ".py",
   "mimetype": "text/x-python",
   "name": "python",
   "nbconvert_exporter": "python",
   "pygments_lexer": "ipython3",
   "version": "3.9.0"
  },
  "orig_nbformat": 4
 },
 "nbformat": 4,
 "nbformat_minor": 2
}
